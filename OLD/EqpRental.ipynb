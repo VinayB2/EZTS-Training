{
 "cells": [
  {
   "cell_type": "code",
   "execution_count": 11,
   "metadata": {},
   "outputs": [],
   "source": [
    "class Equipment_Rental_sys:\n",
    "\n",
    "    global equipments\n",
    "    equipments = [{\n",
    "        \"id\":1,\n",
    "        \"item\":\"football\",\n",
    "        \"condition\":\"good\",\n",
    "        \"status\":\"a\"\n",
    "    },{\n",
    "        \"id\":2,\n",
    "        \"item\":\"bat\",\n",
    "        \"condition\":\"better\",\n",
    "        \"status\":\"u\"\n",
    "    }]\n",
    "\n",
    "    global students\n",
    "    students = [{\n",
    "        \"USN\":\"3BR21EC180\",\n",
    "        \"name\":\"Vinay\"\n",
    "    },\n",
    "    {\n",
    "        \"USN\":\"3BR21EC000\",\n",
    "        \"name\":\"bot\"\n",
    "    }]\n",
    "\n",
    "    # format of record\n",
    "    # record = [{\n",
    "    #     \"id\":1,\n",
    "    #     \"USN\":\"3BR21EC180\",\n",
    "    #     \"borrow_time\":\"time obj need to be inserted here\"\n",
    "    # }]\n",
    "\n",
    "    global records\n",
    "    records=[{\n",
    "\n",
    "    }]\n",
    "\n",
    "    def test(self):\n",
    "        print(\"Class looks good\")\n",
    "\n",
    "    # READ\n",
    "    def get_equipments(self):\n",
    "        return equipments\n",
    "    def get_students(self):\n",
    "        return students\n",
    "    \n",
    "\n",
    "\n",
    "    # CREATE, UPDATE\n",
    "    def rent_eqp(self, eqp_id, student_id):\n",
    "        isValidEqpID = False\n",
    "        isValidStdID = False\n",
    "        global current_eqp, student\n",
    "        current_eqp = {}\n",
    "        student = {}\n",
    "        for eqp in equipments:\n",
    "            if(eqp[\"id\"] == eqp_id):\n",
    "                current_eqp = eqp\n",
    "                isValidEqpID = True\n",
    "\n",
    "        for std in students:\n",
    "            if(std[\"USN\"] == student_id):\n",
    "                student = std\n",
    "                isValidStdID = True  \n",
    "\n",
    "        if(not isValidEqpID or not isValidStdID):\n",
    "           isValidEqpID = False\n",
    "           isValidStdID = False\n",
    "           return\n",
    "        \n",
    "\n",
    "        record = {\n",
    "            \"id\": eqp_id,\n",
    "            \"USN\":student_id\n",
    "        }\n",
    "        print(record)\n",
    "        records.append(record)\n",
    "        return record"
   ]
  },
  {
   "cell_type": "code",
   "execution_count": 15,
   "metadata": {},
   "outputs": [
    {
     "name": "stdout",
     "output_type": "stream",
     "text": [
      "{'id': 1, 'USN': '3BR21EC180'}\n",
      "{'id': 1, 'USN': '3BR21EC180'}\n"
     ]
    }
   ],
   "source": [
    "sports = Equipment_Rental_sys()\n",
    "print(sports.rent_eqp(1, \"3BR21EC180\"))\n"
   ]
  },
  {
   "cell_type": "code",
   "execution_count": null,
   "metadata": {},
   "outputs": [],
   "source": []
  }
 ],
 "metadata": {
  "kernelspec": {
   "display_name": "Python 3 (ipykernel)",
   "language": "python",
   "name": "python3"
  },
  "language_info": {
   "codemirror_mode": {
    "name": "ipython",
    "version": 3
   },
   "file_extension": ".py",
   "mimetype": "text/x-python",
   "name": "python",
   "nbconvert_exporter": "python",
   "pygments_lexer": "ipython3",
   "version": "3.12.3"
  }
 },
 "nbformat": 4,
 "nbformat_minor": 2
}
